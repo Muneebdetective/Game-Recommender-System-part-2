{
 "cells": [
  {
   "cell_type": "code",
   "execution_count": 94,
   "id": "1dfff721",
   "metadata": {},
   "outputs": [],
   "source": [
    "import pandas as pd\n",
    "from matplotlib import pyplot as plt\n",
    "from sklearn.metrics import recall_score\n",
    "from sklearn.metrics import precision_score\n",
    "from sklearn.metrics import accuracy_score\n",
    "from sklearn.metrics import f1_score"
   ]
  },
  {
   "cell_type": "code",
   "execution_count": 95,
   "id": "fa10ac3e",
   "metadata": {},
   "outputs": [
    {
     "data": {
      "text/plain": [
       "Rank              Int64\n",
       "Name             string\n",
       "Platform         string\n",
       "Year              Int64\n",
       "Genre            string\n",
       "Publisher        string\n",
       "NA_Sales        Float64\n",
       "EU_Sales        Float64\n",
       "JP_Sales        Float64\n",
       "Other_Sales     Float64\n",
       "Global_Sales    Float64\n",
       "Unnamed: 11       Int64\n",
       "dtype: object"
      ]
     },
     "execution_count": 95,
     "metadata": {},
     "output_type": "execute_result"
    }
   ],
   "source": [
    "#importing and cleaning dataset\n",
    "gamedf=pd.read_csv(r\"\\Users\\Zain\\Downloads\\Dataset\\vgsales.csv\")\n",
    "gamedf2=gamedf\n",
    "gamedf.convert_dtypes().dtypes"
   ]
  },
  {
   "cell_type": "code",
   "execution_count": 96,
   "id": "55b52182",
   "metadata": {},
   "outputs": [],
   "source": [
    "gamedf=gamedf.dropna()\n",
    "gamedf=gamedf.drop('Year',axis=1)\n",
    "gamedf=gamedf.drop('NA_Sales',axis=1)\n",
    "gamedf=gamedf.drop('EU_Sales',axis=1)\n",
    "gamedf=gamedf.drop('JP_Sales',axis=1)\n",
    "gamedf=gamedf.drop('Other_Sales',axis=1)"
   ]
  },
  {
   "cell_type": "code",
   "execution_count": 97,
   "id": "73e8f7bb",
   "metadata": {},
   "outputs": [],
   "source": [
    "#lists of columns\n",
    "genreList = gamedf['Genre'].unique().tolist()\n",
    "publisherList =gamedf['Publisher'].unique().tolist()\n",
    "platformList=gamedf['Platform'].unique().tolist()"
   ]
  },
  {
   "cell_type": "code",
   "execution_count": 98,
   "id": "ff538c56",
   "metadata": {},
   "outputs": [],
   "source": [
    "#for multiple genres\n",
    "def binarygen(genre_list):\n",
    "    binaryList = []\n",
    "\n",
    "    for genre in genreList:\n",
    "        if genre in genre_list:\n",
    "            binaryList.append(1)\n",
    "        else:\n",
    "            binaryList.append(0)\n",
    "    return binaryList"
   ]
  },
  {
   "cell_type": "code",
   "execution_count": 99,
   "id": "a0a8b7c8",
   "metadata": {},
   "outputs": [],
   "source": [
    "def binarypub(publisher_list):\n",
    "    binaryList = []\n",
    "\n",
    "    for pub in publisherList:\n",
    "        if pub in publisher_list:\n",
    "            binaryList.append(1)\n",
    "        else:\n",
    "            binaryList.append(0)\n",
    "\n",
    "    return binaryList"
   ]
  },
  {
   "cell_type": "code",
   "execution_count": 100,
   "id": "7fdf78b2",
   "metadata": {},
   "outputs": [],
   "source": [
    "def binaryplat(plat_list):\n",
    "    binaryList=[]\n",
    "\n",
    "    for plat in platformList:\n",
    "        if plat in plat_list:\n",
    "            binaryList.append(1)\n",
    "        else:\n",
    "            binaryList.append(0)\n",
    "\n",
    "    return binaryList\n"
   ]
  },
  {
   "cell_type": "code",
   "execution_count": 101,
   "id": "4ddad7c6",
   "metadata": {},
   "outputs": [],
   "source": [
    "gamedf['Genre_multiple'] = gamedf['Genre'].apply(lambda x: binarygen(x))\n",
    "gamedf['Plat_multiple'] = gamedf['Platform'].apply(lambda x: binaryplat(x))\n",
    "gamedf['Publisher_multiple'] = gamedf['Publisher'].apply(lambda x: binarypub(x))"
   ]
  },
  {
   "cell_type": "code",
   "execution_count": 102,
   "id": "deba1c83",
   "metadata": {},
   "outputs": [
    {
     "name": "stdout",
     "output_type": "stream",
     "text": [
      "3.0\n"
     ]
    }
   ],
   "source": [
    "#sciPy Spatial library helps in implementing K nearest neighbor point, and utilities for distance computation\n",
    "#Using Cosine Similarity for finding the similarity between 2 games.\n",
    "from scipy import spatial\n",
    "def CosineSimilarity(n1, n2):\n",
    "    a = gamedf.iloc[n1]\n",
    "    b = gamedf.iloc[n2]\n",
    "\n",
    "    genreA = a['Genre_multiple']\n",
    "    genreB = b['Genre_multiple']\n",
    "\n",
    "    genreCoDistance = spatial.distance.cosine(genreA, genreB)\n",
    "    PlatformA = a['Plat_multiple']\n",
    "    PlatformB = b['Plat_multiple']\n",
    "    PlatformCoDistance = spatial.distance.cosine(PlatformA, PlatformB)\n",
    "\n",
    "    PublisherA = a['Publisher_multiple']\n",
    "    PublisherB = b['Publisher_multiple']\n",
    "    PublisherCoDistance = spatial.distance.cosine(PublisherA, PublisherB)\n",
    "    return genreCoDistance+PlatformCoDistance+PublisherCoDistance\n",
    "print(CosineSimilarity(9,85))\n"
   ]
  },
  {
   "cell_type": "code",
   "execution_count": 103,
   "id": "738a9154",
   "metadata": {},
   "outputs": [],
   "source": [
    "import operator\n",
    "def getCosineNeighbors(basegame, K):\n",
    "    distances = []\n",
    "\n",
    "    for index, game in gamedf.iterrows():\n",
    "        if game['Rank'] == 16291:\n",
    "            break\n",
    "        if game['Rank'] != basegame['Rank'].values[0]:\n",
    "            dist = CosineSimilarity(basegame['Rank'].values[0], game['Rank'])\n",
    "            distances.append((game['Rank'], dist))\n",
    "\n",
    "    distances.sort(key=operator.itemgetter(1))\n",
    "    neighbors = []\n",
    "\n",
    "    for x in range(K):\n",
    "        neighbors.append(distances[x])\n",
    "    return neighbors"
   ]
  },
  {
   "cell_type": "code",
   "execution_count": 104,
   "id": "068fe945",
   "metadata": {},
   "outputs": [],
   "source": [
    "def predictscore():\n",
    "    name = input('Enter a game name :  ')\n",
    "    new_game = gamedf[gamedf['Name'].str.contains(name)].iloc[0].to_frame().T\n",
    "    print('Selected Game: ',new_game.Name.values[0])\n",
    "    Cosinepredict_score(new_game)\n",
    "    Euclideanpredict_score(new_game)\n",
    "    return new_game\n",
    "    "
   ]
  },
  {
   "cell_type": "code",
   "execution_count": 105,
   "id": "cd1fdff8",
   "metadata": {},
   "outputs": [],
   "source": [
    "def Cosinepredict_score(new_game):\n",
    "    \n",
    "    K = 10\n",
    "    neighbors = getCosineNeighbors(new_game, K)\n",
    "    print(neighbors)\n",
    "    print('\\nCosine Recommended Games: \\n')\n",
    "    for neighbor in neighbors:\n",
    "        print( gamedf.iloc[neighbor[0]][1] )\n",
    "\n",
    "    print('\\n')"
   ]
  },
  {
   "cell_type": "code",
   "execution_count": 106,
   "id": "9b42761a",
   "metadata": {},
   "outputs": [
    {
     "name": "stdout",
     "output_type": "stream",
     "text": [
      "4.242640687119286\n"
     ]
    }
   ],
   "source": [
    "def EuclideanSimilarity(n1, n2):\n",
    "    a = gamedf.iloc[n1]\n",
    "    b = gamedf.iloc[n2]\n",
    "\n",
    "    genreA = a['Genre_multiple']\n",
    "    genreB = b['Genre_multiple']\n",
    "\n",
    "    genreCoDistance = spatial.distance.euclidean(genreA, genreB)\n",
    "    PlatformA = a['Plat_multiple']\n",
    "    PlatformB = b['Plat_multiple']\n",
    "    PlatformCoDistance = spatial.distance.euclidean(PlatformA, PlatformB)\n",
    "\n",
    "    PublisherA = a['Publisher_multiple']\n",
    "    PublisherB = b['Publisher_multiple']\n",
    "    PublisherCoDistance = spatial.distance.euclidean(PublisherA, PublisherB)\n",
    "    return genreCoDistance+PlatformCoDistance+PublisherCoDistance\n",
    "print(EuclideanSimilarity(9,85))\n"
   ]
  },
  {
   "cell_type": "code",
   "execution_count": 107,
   "id": "2054bba6",
   "metadata": {},
   "outputs": [],
   "source": [
    "def getEuclideanNeighbors(basegame, K):\n",
    "    distances = []\n",
    "\n",
    "    for index, game in gamedf.iterrows():\n",
    "        if game['Rank'] == 16291:\n",
    "            break\n",
    "        if game['Rank'] != basegame['Rank'].values[0]:\n",
    "            dist = EuclideanSimilarity(basegame['Rank'].values[0], game['Rank'])\n",
    "            distances.append((game['Rank'], dist))\n",
    "\n",
    "    distances.sort(key=operator.itemgetter(1))\n",
    "    print(distances)\n",
    "    neighbors = []\n",
    "    for x in range(K):\n",
    "        neighbors.append(distances[x])\n",
    "    return neighbors"
   ]
  },
  {
   "cell_type": "code",
   "execution_count": 108,
   "id": "9507e4c3",
   "metadata": {},
   "outputs": [],
   "source": [
    "def Euclideanpredict_score(new_game):\n",
    "    K = 10\n",
    "    neighbors = getCosineNeighbors(new_game, K)\n",
    "    print('\\nEuclidean Recommended Games: \\n')\n",
    "    for neighbor in neighbors:\n",
    "        print( gamedf.iloc[neighbor[0]][1] )\n",
    "\n",
    "    print('\\n')"
   ]
  },
  {
   "cell_type": "code",
   "execution_count": 109,
   "id": "26e94253",
   "metadata": {},
   "outputs": [],
   "source": [
    "def getCosineDistances(basegame):\n",
    "    distances = []\n",
    "\n",
    "    for index, game in gamedf.iterrows():\n",
    "        if game['Rank'] == 16291:\n",
    "            break\n",
    "        if game['Rank'] != basegame['Rank'].values[0]:\n",
    "            dist = CosineSimilarity(basegame['Rank'].values[0], game['Rank'])\n",
    "            distances.append((game['Rank'], dist))\n",
    "\n",
    "    list= []\n",
    "    distances.sort(key=operator.itemgetter(1))\n",
    "    for i in distances :\n",
    "        list.append(i[0])\n",
    "    return list\n",
    "    "
   ]
  },
  {
   "cell_type": "code",
   "execution_count": 110,
   "id": "4eac347d",
   "metadata": {},
   "outputs": [
    {
     "name": "stdout",
     "output_type": "stream",
     "text": [
      "Selected Game:  Call of Duty: Modern Warfare 3\n",
      "[(31, 0), (35, 0), (36, 0), (61, 0), (70, 0)]\n",
      "\n",
      "Cosine Recommended Games: \n",
      "\n",
      "Call of Duty: Black Ops\n",
      "Call of Duty: Black Ops II\n",
      "Call of Duty: Modern Warfare 2\n",
      "Call of Duty: Ghosts\n",
      "Call of Duty 4: Modern Warfare\n",
      "\n",
      "\n",
      "\n",
      "Euclidean Recommended Games: \n",
      "\n",
      "Call of Duty: Black Ops\n",
      "Call of Duty: Black Ops II\n",
      "Call of Duty: Modern Warfare 2\n",
      "Call of Duty: Ghosts\n",
      "Call of Duty 4: Modern Warfare\n",
      "\n",
      "\n"
     ]
    }
   ],
   "source": [
    "def getEuclideanDistances(basegame):\n",
    "    distances = []\n",
    "\n",
    "    for index, game in gamedf.iterrows():\n",
    "        if game['Rank'] == 16291:\n",
    "            break\n",
    "        if game['Rank'] != basegame['Rank'].values[0]:\n",
    "            dist = EuclideanSimilarity(basegame['Rank'].values[0], game['Rank'])\n",
    "            distances.append((game['Rank'], dist))\n",
    "\n",
    "    list= []\n",
    "    distances.sort(key=operator.itemgetter(1))\n",
    "    for i in distances :\n",
    "        list.append(i[0])\n",
    "    return list\n",
    "\n",
    "bg=predictscore()"
   ]
  },
  {
   "cell_type": "code",
   "execution_count": 111,
   "id": "7c8250af",
   "metadata": {},
   "outputs": [],
   "source": [
    "ed=getEuclideanDistances(bg)\n",
    "cd=getCosineDistances(bg)\n",
    "publabel=bg['Publisher_multiple'].tolist()\n",
    "genlabel=bg['Genre_multiple'].tolist()\n",
    "platlabel=bg['Plat_multiple'].tolist()"
   ]
  },
  {
   "cell_type": "code",
   "execution_count": 124,
   "id": "97191174",
   "metadata": {},
   "outputs": [
    {
     "name": "stdout",
     "output_type": "stream",
     "text": [
      "Cosine Accuracy : \n",
      "98.7156511350061\n",
      "Cosine f1 : \n",
      "76.88888888888887\n",
      "Cosine Recall : \n",
      "76.99999999999999\n",
      "Cosine Precision : \n",
      "76.83333333333331\n"
     ]
    }
   ],
   "source": [
    "# Evaluate metrics for cosine similarity\n",
    "list_acc=[]\n",
    "list_rc=[]\n",
    "list_f1=[]\n",
    "list_precision=[]\n",
    "for i in range(100) :\n",
    "    cosine_predicted_labels = gamedf['Publisher_multiple'].values[cd[i]]\n",
    "\n",
    "    pubcosine_accuracy = accuracy_score(publabel[0], cosine_predicted_labels)\n",
    "    pubcosine_precision = precision_score(publabel[0], cosine_predicted_labels)\n",
    "    pubcosine_recall = recall_score(publabel[0], cosine_predicted_labels)\n",
    "    pubcosine_f1 = f1_score(publabel[0], cosine_predicted_labels)\n",
    "\n",
    "    cosine_predicted_labels = gamedf['Genre_multiple'].values[cd[i]]\n",
    "\n",
    "    gencosine_accuracy = accuracy_score(genlabel[0], cosine_predicted_labels)\n",
    "    gencosine_precision = precision_score(genlabel[0], cosine_predicted_labels)\n",
    "    gencosine_recall = recall_score(genlabel[0], cosine_predicted_labels)\n",
    "    gencosine_f1 = f1_score(genlabel[0], cosine_predicted_labels)\n",
    "\n",
    "    cosine_predicted_labels = gamedf['Plat_multiple'].values[cd[i]]\n",
    "\n",
    "    platcosine_accuracy = accuracy_score(platlabel[0], cosine_predicted_labels)\n",
    "    platcosine_precision = precision_score(platlabel[0], cosine_predicted_labels)\n",
    "    platcosine_recall = recall_score(platlabel[0], cosine_predicted_labels)\n",
    "    platcosine_f1 = f1_score(platlabel[0], cosine_predicted_labels)\n",
    "#mean accuracy\n",
    "    cosine_accuracy=(pubcosine_accuracy+gencosine_accuracy+platcosine_accuracy)/3\n",
    "    cosine_precision=(pubcosine_precision+gencosine_precision+platcosine_precision)/3\n",
    "    cosine_recall=(pubcosine_recall+gencosine_recall+platcosine_recall)/3\n",
    "    cosine_f1=(pubcosine_f1+gencosine_f1+platcosine_f1)/3\n",
    "    \n",
    "    list_acc.append(cosine_accuracy)\n",
    "    list_rc.append(cosine_recall)\n",
    "    list_f1.append(cosine_f1)\n",
    "    list_precision.append(cosine_precision)\n",
    "\n",
    "cosine_accuracy=sum(list_acc)/100\n",
    "cosine_f1=sum(list_f1)/100\n",
    "cosine_recall=sum(list_rc)/100\n",
    "cosine_precision=sum(list_precision)/100\n",
    "\n",
    "print(\"Cosine Accuracy : \")\n",
    "print(cosine_accuracy*100)\n",
    "print(\"Cosine f1 : \")\n",
    "print(cosine_f1*100)\n",
    "print(\"Cosine Recall : \")\n",
    "print(cosine_recall*100)\n",
    "print(\"Cosine Precision : \")\n",
    "print(cosine_precision*100)"
   ]
  },
  {
   "cell_type": "code",
   "execution_count": 125,
   "id": "caddccd4",
   "metadata": {},
   "outputs": [
    {
     "name": "stdout",
     "output_type": "stream",
     "text": [
      "euclidean Accuracy : \n",
      "98.84612081839917\n",
      "euclidean f1 : \n",
      "76.88888888888887\n",
      "euclidean Recall : \n",
      "76.99999999999999\n",
      "euclidean Precision : \n",
      "76.83333333333331\n"
     ]
    }
   ],
   "source": [
    "# Evaluate metrics for euclidean similarity\n",
    "list_acc=[]\n",
    "list_rc=[]\n",
    "list_f1=[]\n",
    "list_precision=[]\n",
    "for i in range(100) :\n",
    "    euclidean_predicted_labels = gamedf['Publisher_multiple'].values[ed[i]]\n",
    "\n",
    "    pubeuclidean_accuracy = accuracy_score(publabel[0], euclidean_predicted_labels)\n",
    "    pubeuclidean_precision = precision_score(publabel[0], euclidean_predicted_labels)\n",
    "    pubeuclidean_recall = recall_score(publabel[0], euclidean_predicted_labels)\n",
    "    pubeuclidean_f1 = f1_score(publabel[0], euclidean_predicted_labels)\n",
    "\n",
    "    euclidean_predicted_labels = gamedf['Genre_multiple'].values[ed[i]]\n",
    "\n",
    "    geneuclidean_accuracy = accuracy_score(genlabel[0], euclidean_predicted_labels)\n",
    "    geneuclidean_precision = precision_score(genlabel[0], euclidean_predicted_labels)\n",
    "    geneuclidean_recall = recall_score(genlabel[0], euclidean_predicted_labels)\n",
    "    geneuclidean_f1 = f1_score(genlabel[0], euclidean_predicted_labels)\n",
    "\n",
    "    euclidean_predicted_labels = gamedf['Plat_multiple'].values[ed[i]]\n",
    "\n",
    "    plateuclidean_accuracy = accuracy_score(platlabel[0], euclidean_predicted_labels)\n",
    "    plateuclidean_precision = precision_score(platlabel[0], euclidean_predicted_labels)\n",
    "    plateuclidean_recall = recall_score(platlabel[0], euclidean_predicted_labels)\n",
    "    plateuclidean_f1 = f1_score(platlabel[0], euclidean_predicted_labels)\n",
    "#mean accuracy\n",
    "    euclidean_accuracy=(pubeuclidean_accuracy+geneuclidean_accuracy+plateuclidean_accuracy)/3\n",
    "    euclidean_precision=(pubeuclidean_precision+geneuclidean_precision+plateuclidean_precision)/3\n",
    "    euclidean_recall=(pubeuclidean_recall+geneuclidean_recall+plateuclidean_recall)/3\n",
    "    euclidean_f1=(pubeuclidean_f1+geneuclidean_f1+plateuclidean_f1)/3\n",
    "    \n",
    "    list_acc.append(euclidean_accuracy)\n",
    "    list_rc.append(euclidean_recall)\n",
    "    list_f1.append(euclidean_f1)\n",
    "    list_precision.append(euclidean_precision)\n",
    "\n",
    "euclidean_accuracy=sum(list_acc)/100\n",
    "euclidean_f1=sum(list_f1)/100\n",
    "euclidean_recall=sum(list_rc)/100\n",
    "euclidean_precision=sum(list_precision)/100\n",
    "\n",
    "print(\"euclidean Accuracy : \")\n",
    "print(euclidean_accuracy*100)\n",
    "print(\"euclidean f1 : \")\n",
    "print(euclidean_f1*100)\n",
    "print(\"euclidean Recall : \")\n",
    "print(euclidean_recall*100)\n",
    "print(\"euclidean Precision : \")\n",
    "print(euclidean_precision*100)"
   ]
  }
 ],
 "metadata": {
  "kernelspec": {
   "display_name": "Python 3 (ipykernel)",
   "language": "python",
   "name": "python3"
  },
  "language_info": {
   "codemirror_mode": {
    "name": "ipython",
    "version": 3
   },
   "file_extension": ".py",
   "mimetype": "text/x-python",
   "name": "python",
   "nbconvert_exporter": "python",
   "pygments_lexer": "ipython3",
   "version": "3.10.9"
  }
 },
 "nbformat": 4,
 "nbformat_minor": 5
}
